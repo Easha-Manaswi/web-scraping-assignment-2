{
 "cells": [
  {
   "cell_type": "code",
   "execution_count": 21,
   "metadata": {},
   "outputs": [
    {
     "name": "stdout",
     "output_type": "stream",
     "text": [
      "Requirement already satisfied: selenium in c:\\users\\katra\\anaconda3\\lib\\site-packages (3.141.0)\n",
      "Requirement already satisfied: urllib3 in c:\\users\\katra\\anaconda3\\lib\\site-packages (from selenium) (1.25.9)\n"
     ]
    }
   ],
   "source": [
    "! pip install selenium"
   ]
  },
  {
   "cell_type": "code",
   "execution_count": null,
   "metadata": {},
   "outputs": [],
   "source": [
    "#Question1"
   ]
  },
  {
   "cell_type": "code",
   "execution_count": 2,
   "metadata": {},
   "outputs": [],
   "source": [
    "import selenium \n",
    "import pandas as pd\n",
    "from selenium import webdriver"
   ]
  },
  {
   "cell_type": "code",
   "execution_count": 3,
   "metadata": {},
   "outputs": [],
   "source": [
    "driver=webdriver.Chrome(\"desktop/chromedriver.exe\")"
   ]
  },
  {
   "cell_type": "code",
   "execution_count": 4,
   "metadata": {},
   "outputs": [],
   "source": [
    "driver.get(\"https://www.naukri.com/\")"
   ]
  },
  {
   "cell_type": "code",
   "execution_count": 5,
   "metadata": {},
   "outputs": [],
   "source": [
    "search_job=driver.find_element_by_id('qsb-keyword-sugg')\n",
    "search_job.send_keys(\"Data Analyst\")\n",
    "search_loc=driver.find_element_by_xpath(\"//input[@id='qsb-location-sugg']\")\n",
    "search_loc.send_keys(\"Bangalore\")"
   ]
  },
  {
   "cell_type": "code",
   "execution_count": 6,
   "metadata": {},
   "outputs": [],
   "source": [
    "search_btn=driver.find_element_by_xpath(\"//div[@class='search-btn']\")\n",
    "search_btn.click()"
   ]
  },
  {
   "cell_type": "code",
   "execution_count": 7,
   "metadata": {},
   "outputs": [],
   "source": [
    "url=\"https://www.naukri.com/data-analyst-jobs-in-bangalore?k=data%20analyst&l=bangalore\""
   ]
  },
  {
   "cell_type": "code",
   "execution_count": 8,
   "metadata": {},
   "outputs": [],
   "source": [
    "driver.get(url)"
   ]
  },
  {
   "cell_type": "code",
   "execution_count": 9,
   "metadata": {},
   "outputs": [],
   "source": [
    "job_title=[]\n",
    "company_names=[]\n",
    "locations_list=[]\n",
    "experience_list=[]"
   ]
  },
  {
   "cell_type": "code",
   "execution_count": 10,
   "metadata": {},
   "outputs": [
    {
     "data": {
      "text/plain": [
       "[<selenium.webdriver.remote.webelement.WebElement (session=\"08baaac6ad870620d81d0ef6cdf7dcda\", element=\"fd52aa01-a9ff-4c37-bf76-51e34cfa76cc\")>,\n",
       " <selenium.webdriver.remote.webelement.WebElement (session=\"08baaac6ad870620d81d0ef6cdf7dcda\", element=\"f1813790-1e2d-4cad-b068-a628131f0929\")>,\n",
       " <selenium.webdriver.remote.webelement.WebElement (session=\"08baaac6ad870620d81d0ef6cdf7dcda\", element=\"54980082-fdfb-427d-8989-302e0644380c\")>,\n",
       " <selenium.webdriver.remote.webelement.WebElement (session=\"08baaac6ad870620d81d0ef6cdf7dcda\", element=\"3938cc49-0bd2-4b21-a88e-24b70e939fa8\")>,\n",
       " <selenium.webdriver.remote.webelement.WebElement (session=\"08baaac6ad870620d81d0ef6cdf7dcda\", element=\"d482343e-88a0-488c-ae0f-6a8915c1130a\")>,\n",
       " <selenium.webdriver.remote.webelement.WebElement (session=\"08baaac6ad870620d81d0ef6cdf7dcda\", element=\"52e5305b-16e5-4459-8baf-1cea9e77c1e5\")>,\n",
       " <selenium.webdriver.remote.webelement.WebElement (session=\"08baaac6ad870620d81d0ef6cdf7dcda\", element=\"af5bc0e8-dc7b-428e-8740-bc68151fc3db\")>,\n",
       " <selenium.webdriver.remote.webelement.WebElement (session=\"08baaac6ad870620d81d0ef6cdf7dcda\", element=\"c78b16a0-efe9-4d92-8cc5-18600f284fb8\")>,\n",
       " <selenium.webdriver.remote.webelement.WebElement (session=\"08baaac6ad870620d81d0ef6cdf7dcda\", element=\"397cdb24-4841-4a28-81f5-096caff9bf3d\")>]"
      ]
     },
     "execution_count": 10,
     "metadata": {},
     "output_type": "execute_result"
    }
   ],
   "source": [
    "titles_tag=driver.find_elements_by_xpath(\"//a[@class='title fw500 ellipsis']\")\n",
    "titles_tag[0:9]"
   ]
  },
  {
   "cell_type": "code",
   "execution_count": 11,
   "metadata": {},
   "outputs": [
    {
     "data": {
      "text/plain": [
       "['Data Analyst - SAP',\n",
       " 'Hiring Data Analysts on Contract',\n",
       " 'Senior Data Analyst',\n",
       " 'Data Analyst',\n",
       " 'Business / Data Analyst',\n",
       " 'Intern Data Analyst',\n",
       " 'Data Analyst',\n",
       " 'Data Analyst',\n",
       " 'SENIOR DATA ANALYST']"
      ]
     },
     "execution_count": 11,
     "metadata": {},
     "output_type": "execute_result"
    }
   ],
   "source": [
    "for i in titles_tag:\n",
    "    job_title.append(i.text)\n",
    "job_title[0:9]    "
   ]
  },
  {
   "cell_type": "code",
   "execution_count": 12,
   "metadata": {},
   "outputs": [
    {
     "data": {
      "text/plain": [
       "[<selenium.webdriver.remote.webelement.WebElement (session=\"08baaac6ad870620d81d0ef6cdf7dcda\", element=\"82face46-c7fe-4521-9c72-bf0f3ddb5806\")>,\n",
       " <selenium.webdriver.remote.webelement.WebElement (session=\"08baaac6ad870620d81d0ef6cdf7dcda\", element=\"c33fc252-1177-45d7-8581-75560a8c4545\")>,\n",
       " <selenium.webdriver.remote.webelement.WebElement (session=\"08baaac6ad870620d81d0ef6cdf7dcda\", element=\"e6c178d5-cfab-413f-af91-4e0878a91797\")>,\n",
       " <selenium.webdriver.remote.webelement.WebElement (session=\"08baaac6ad870620d81d0ef6cdf7dcda\", element=\"8f1adaa4-c0a1-41e4-9af6-5c65aaccf143\")>,\n",
       " <selenium.webdriver.remote.webelement.WebElement (session=\"08baaac6ad870620d81d0ef6cdf7dcda\", element=\"d06da4ea-776a-4135-aeab-6bb633c42039\")>,\n",
       " <selenium.webdriver.remote.webelement.WebElement (session=\"08baaac6ad870620d81d0ef6cdf7dcda\", element=\"bdb9a07d-3082-4c78-94c4-b77046431f9b\")>,\n",
       " <selenium.webdriver.remote.webelement.WebElement (session=\"08baaac6ad870620d81d0ef6cdf7dcda\", element=\"eda2d46e-53ba-4644-8587-4767b12d2105\")>,\n",
       " <selenium.webdriver.remote.webelement.WebElement (session=\"08baaac6ad870620d81d0ef6cdf7dcda\", element=\"aafaf4c4-d51e-422e-86f3-db072d3541e1\")>,\n",
       " <selenium.webdriver.remote.webelement.WebElement (session=\"08baaac6ad870620d81d0ef6cdf7dcda\", element=\"adc753d7-e457-40e0-8786-f1a24fcca917\")>]"
      ]
     },
     "execution_count": 12,
     "metadata": {},
     "output_type": "execute_result"
    }
   ],
   "source": [
    "company_tag=driver.find_elements_by_xpath(\"//a[@class='subTitle ellipsis fleft']\")\n",
    "company_tag[0:9]"
   ]
  },
  {
   "cell_type": "code",
   "execution_count": 13,
   "metadata": {},
   "outputs": [
    {
     "data": {
      "text/plain": [
       "['Boston Scientific Corporation',\n",
       " 'Flipkart Internet Private Limited',\n",
       " 'Schneider Electric',\n",
       " 'Shell India Markets Private Limited',\n",
       " 'IBM India Pvt. Limited',\n",
       " 'Outsource Big Data',\n",
       " 'GlaxoSmithKline Pharmaceuticals Limited',\n",
       " 'Reliance Jio Infocomm Ltd.',\n",
       " 'McAfee Software (India) Pvt. Ltd']"
      ]
     },
     "execution_count": 13,
     "metadata": {},
     "output_type": "execute_result"
    }
   ],
   "source": [
    "for i in company_tag:\n",
    "    company_names.append(i.text)\n",
    "company_names[0:9]    "
   ]
  },
  {
   "cell_type": "code",
   "execution_count": 14,
   "metadata": {},
   "outputs": [
    {
     "data": {
      "text/plain": [
       "[<selenium.webdriver.remote.webelement.WebElement (session=\"08baaac6ad870620d81d0ef6cdf7dcda\", element=\"72a4e9a6-5479-4b31-a92c-be290e0a159f\")>,\n",
       " <selenium.webdriver.remote.webelement.WebElement (session=\"08baaac6ad870620d81d0ef6cdf7dcda\", element=\"e16d0197-ca51-4680-8688-7d6b07e09fb8\")>,\n",
       " <selenium.webdriver.remote.webelement.WebElement (session=\"08baaac6ad870620d81d0ef6cdf7dcda\", element=\"10a47f71-6c46-450b-97a0-de3c254f38b0\")>,\n",
       " <selenium.webdriver.remote.webelement.WebElement (session=\"08baaac6ad870620d81d0ef6cdf7dcda\", element=\"ab9e2d51-4bfa-44eb-ae2d-91c04eb9f9cc\")>,\n",
       " <selenium.webdriver.remote.webelement.WebElement (session=\"08baaac6ad870620d81d0ef6cdf7dcda\", element=\"7f8fa1bc-2768-4892-b1e5-12b0c8d895f6\")>,\n",
       " <selenium.webdriver.remote.webelement.WebElement (session=\"08baaac6ad870620d81d0ef6cdf7dcda\", element=\"8f8622e5-548a-469c-9cbf-c68e5b9ecb09\")>,\n",
       " <selenium.webdriver.remote.webelement.WebElement (session=\"08baaac6ad870620d81d0ef6cdf7dcda\", element=\"bfc003b9-cf70-4916-a89c-fdb373868a30\")>,\n",
       " <selenium.webdriver.remote.webelement.WebElement (session=\"08baaac6ad870620d81d0ef6cdf7dcda\", element=\"afa3cf17-db18-403f-99ee-e5b22f73ca52\")>,\n",
       " <selenium.webdriver.remote.webelement.WebElement (session=\"08baaac6ad870620d81d0ef6cdf7dcda\", element=\"184c82a8-742d-493c-ae0e-47ea55dbf593\")>]"
      ]
     },
     "execution_count": 14,
     "metadata": {},
     "output_type": "execute_result"
    }
   ],
   "source": [
    "loc_tag=driver.find_elements_by_xpath(\"//li[@class='fleft grey-text br2 placeHolderLi location']/span[1]\")\n",
    "loc_tag[0:9]"
   ]
  },
  {
   "cell_type": "code",
   "execution_count": 15,
   "metadata": {},
   "outputs": [
    {
     "data": {
      "text/plain": [
       "['Pune, Delhi, Bengaluru, Gurgaon',\n",
       " 'Bengaluru',\n",
       " 'Bengaluru / Bangalore',\n",
       " 'Bengaluru',\n",
       " 'Bengaluru',\n",
       " 'Bengaluru',\n",
       " 'Bengaluru',\n",
       " 'Bengaluru',\n",
       " 'Bengaluru']"
      ]
     },
     "execution_count": 15,
     "metadata": {},
     "output_type": "execute_result"
    }
   ],
   "source": [
    "for i in loc_tag:\n",
    "    locations_list.append(i.text)\n",
    "locations_list[0:9]"
   ]
  },
  {
   "cell_type": "code",
   "execution_count": 16,
   "metadata": {},
   "outputs": [
    {
     "data": {
      "text/plain": [
       "[<selenium.webdriver.remote.webelement.WebElement (session=\"08baaac6ad870620d81d0ef6cdf7dcda\", element=\"3839270f-de4b-4b4c-aa01-8e1713550f59\")>,\n",
       " <selenium.webdriver.remote.webelement.WebElement (session=\"08baaac6ad870620d81d0ef6cdf7dcda\", element=\"1fe66566-0877-4341-9f6b-dd737161b7fe\")>,\n",
       " <selenium.webdriver.remote.webelement.WebElement (session=\"08baaac6ad870620d81d0ef6cdf7dcda\", element=\"c1fdde5b-f6f3-47f2-b4a1-231b27c63d27\")>,\n",
       " <selenium.webdriver.remote.webelement.WebElement (session=\"08baaac6ad870620d81d0ef6cdf7dcda\", element=\"4c555894-2c10-41f7-97f9-cf4ae7e7cdcc\")>,\n",
       " <selenium.webdriver.remote.webelement.WebElement (session=\"08baaac6ad870620d81d0ef6cdf7dcda\", element=\"e4504d39-563a-46a6-a36d-d1ec9df09e30\")>,\n",
       " <selenium.webdriver.remote.webelement.WebElement (session=\"08baaac6ad870620d81d0ef6cdf7dcda\", element=\"e2d1cdaf-f49e-479d-aa3f-71988f65fae5\")>,\n",
       " <selenium.webdriver.remote.webelement.WebElement (session=\"08baaac6ad870620d81d0ef6cdf7dcda\", element=\"b9e82dff-724f-4e1a-b717-17160c3fac33\")>,\n",
       " <selenium.webdriver.remote.webelement.WebElement (session=\"08baaac6ad870620d81d0ef6cdf7dcda\", element=\"8fa0769d-e796-4fad-b2c6-df3cc1432ed0\")>,\n",
       " <selenium.webdriver.remote.webelement.WebElement (session=\"08baaac6ad870620d81d0ef6cdf7dcda\", element=\"b6c7c146-36ac-41ad-9d3e-dc22e3740016\")>]"
      ]
     },
     "execution_count": 16,
     "metadata": {},
     "output_type": "execute_result"
    }
   ],
   "source": [
    "exp_tag=driver.find_elements_by_xpath(\"//li[@class='fleft grey-text br2 placeHolderLi experience']/span[1]\")\n",
    "exp_tag[0:9]"
   ]
  },
  {
   "cell_type": "code",
   "execution_count": 17,
   "metadata": {},
   "outputs": [
    {
     "data": {
      "text/plain": [
       "['3-5 Yrs',\n",
       " '2-5 Yrs',\n",
       " '2-5 Yrs',\n",
       " '5-8 Yrs',\n",
       " '2-4 Yrs',\n",
       " '0-1 Yrs',\n",
       " '4-6 Yrs',\n",
       " '8-9 Yrs',\n",
       " '7-12 Yrs']"
      ]
     },
     "execution_count": 17,
     "metadata": {},
     "output_type": "execute_result"
    }
   ],
   "source": [
    "for i in exp_tag:\n",
    "    experience_list.append(i.text)\n",
    "experience_list[0:9]"
   ]
  },
  {
   "cell_type": "code",
   "execution_count": 18,
   "metadata": {},
   "outputs": [],
   "source": [
    "import pandas as pd \n",
    "DataAnalyst=pd.DataFrame()\n",
    "DataAnalyst['JOB_NAME']=job_title[0:9]\n",
    "DataAnalyst['COMPANY']=company_names[0:9]\n",
    "DataAnalyst['JOB_LOCATION']=locations_list[0:9]\n",
    "DataAnalyst['EXPERIENCE']=experience_list[0:9]"
   ]
  },
  {
   "cell_type": "code",
   "execution_count": 19,
   "metadata": {},
   "outputs": [
    {
     "data": {
      "text/html": [
       "<div>\n",
       "<style scoped>\n",
       "    .dataframe tbody tr th:only-of-type {\n",
       "        vertical-align: middle;\n",
       "    }\n",
       "\n",
       "    .dataframe tbody tr th {\n",
       "        vertical-align: top;\n",
       "    }\n",
       "\n",
       "    .dataframe thead th {\n",
       "        text-align: right;\n",
       "    }\n",
       "</style>\n",
       "<table border=\"1\" class=\"dataframe\">\n",
       "  <thead>\n",
       "    <tr style=\"text-align: right;\">\n",
       "      <th></th>\n",
       "      <th>JOB_NAME</th>\n",
       "      <th>COMPANY</th>\n",
       "      <th>JOB_LOCATION</th>\n",
       "      <th>EXPERIENCE</th>\n",
       "    </tr>\n",
       "  </thead>\n",
       "  <tbody>\n",
       "    <tr>\n",
       "      <th>0</th>\n",
       "      <td>Data Analyst - SAP</td>\n",
       "      <td>Boston Scientific Corporation</td>\n",
       "      <td>Pune, Delhi, Bengaluru, Gurgaon</td>\n",
       "      <td>3-5 Yrs</td>\n",
       "    </tr>\n",
       "    <tr>\n",
       "      <th>1</th>\n",
       "      <td>Hiring Data Analysts on Contract</td>\n",
       "      <td>Flipkart Internet Private Limited</td>\n",
       "      <td>Bengaluru</td>\n",
       "      <td>2-5 Yrs</td>\n",
       "    </tr>\n",
       "    <tr>\n",
       "      <th>2</th>\n",
       "      <td>Senior Data Analyst</td>\n",
       "      <td>Schneider Electric</td>\n",
       "      <td>Bengaluru / Bangalore</td>\n",
       "      <td>2-5 Yrs</td>\n",
       "    </tr>\n",
       "    <tr>\n",
       "      <th>3</th>\n",
       "      <td>Data Analyst</td>\n",
       "      <td>Shell India Markets Private Limited</td>\n",
       "      <td>Bengaluru</td>\n",
       "      <td>5-8 Yrs</td>\n",
       "    </tr>\n",
       "    <tr>\n",
       "      <th>4</th>\n",
       "      <td>Business / Data Analyst</td>\n",
       "      <td>IBM India Pvt. Limited</td>\n",
       "      <td>Bengaluru</td>\n",
       "      <td>2-4 Yrs</td>\n",
       "    </tr>\n",
       "    <tr>\n",
       "      <th>5</th>\n",
       "      <td>Intern Data Analyst</td>\n",
       "      <td>Outsource Big Data</td>\n",
       "      <td>Bengaluru</td>\n",
       "      <td>0-1 Yrs</td>\n",
       "    </tr>\n",
       "    <tr>\n",
       "      <th>6</th>\n",
       "      <td>Data Analyst</td>\n",
       "      <td>GlaxoSmithKline Pharmaceuticals Limited</td>\n",
       "      <td>Bengaluru</td>\n",
       "      <td>4-6 Yrs</td>\n",
       "    </tr>\n",
       "    <tr>\n",
       "      <th>7</th>\n",
       "      <td>Data Analyst</td>\n",
       "      <td>Reliance Jio Infocomm Ltd.</td>\n",
       "      <td>Bengaluru</td>\n",
       "      <td>8-9 Yrs</td>\n",
       "    </tr>\n",
       "    <tr>\n",
       "      <th>8</th>\n",
       "      <td>SENIOR DATA ANALYST</td>\n",
       "      <td>McAfee Software (India) Pvt. Ltd</td>\n",
       "      <td>Bengaluru</td>\n",
       "      <td>7-12 Yrs</td>\n",
       "    </tr>\n",
       "  </tbody>\n",
       "</table>\n",
       "</div>"
      ],
      "text/plain": [
       "                           JOB_NAME                                  COMPANY  \\\n",
       "0                Data Analyst - SAP            Boston Scientific Corporation   \n",
       "1  Hiring Data Analysts on Contract        Flipkart Internet Private Limited   \n",
       "2               Senior Data Analyst                       Schneider Electric   \n",
       "3                      Data Analyst      Shell India Markets Private Limited   \n",
       "4           Business / Data Analyst                   IBM India Pvt. Limited   \n",
       "5               Intern Data Analyst                       Outsource Big Data   \n",
       "6                      Data Analyst  GlaxoSmithKline Pharmaceuticals Limited   \n",
       "7                      Data Analyst               Reliance Jio Infocomm Ltd.   \n",
       "8               SENIOR DATA ANALYST         McAfee Software (India) Pvt. Ltd   \n",
       "\n",
       "                      JOB_LOCATION EXPERIENCE  \n",
       "0  Pune, Delhi, Bengaluru, Gurgaon    3-5 Yrs  \n",
       "1                        Bengaluru    2-5 Yrs  \n",
       "2            Bengaluru / Bangalore    2-5 Yrs  \n",
       "3                        Bengaluru    5-8 Yrs  \n",
       "4                        Bengaluru    2-4 Yrs  \n",
       "5                        Bengaluru    0-1 Yrs  \n",
       "6                        Bengaluru    4-6 Yrs  \n",
       "7                        Bengaluru    8-9 Yrs  \n",
       "8                        Bengaluru   7-12 Yrs  "
      ]
     },
     "execution_count": 19,
     "metadata": {},
     "output_type": "execute_result"
    }
   ],
   "source": [
    "DataAnalyst"
   ]
  },
  {
   "cell_type": "code",
   "execution_count": null,
   "metadata": {},
   "outputs": [],
   "source": [
    "#Question3"
   ]
  },
  {
   "cell_type": "code",
   "execution_count": 28,
   "metadata": {},
   "outputs": [],
   "source": [
    "import selenium \n",
    "import pandas as pd\n",
    "from selenium import webdriver"
   ]
  },
  {
   "cell_type": "code",
   "execution_count": 29,
   "metadata": {},
   "outputs": [],
   "source": [
    "driver=webdriver.Chrome(\"desktop/chromedriver.exe\")"
   ]
  },
  {
   "cell_type": "code",
   "execution_count": 30,
   "metadata": {},
   "outputs": [],
   "source": [
    "driver.get(\"https://www.naukri.com/\")"
   ]
  },
  {
   "cell_type": "code",
   "execution_count": 31,
   "metadata": {},
   "outputs": [],
   "source": [
    "search_job=driver.find_element_by_id('qsb-keyword-sugg')\n",
    "search_job.send_keys(\"Data Scientist\")\n",
    "search_loc=driver.find_element_by_xpath(\"//input[@id='qsb-location-sugg']\")\n",
    "search_loc.send_keys(\"Delhi\")"
   ]
  },
  {
   "cell_type": "code",
   "execution_count": 32,
   "metadata": {},
   "outputs": [],
   "source": [
    "search_btn=driver.find_element_by_xpath(\"//div[@class='search-btn']\")\n",
    "search_btn.click()"
   ]
  },
  {
   "cell_type": "code",
   "execution_count": 33,
   "metadata": {},
   "outputs": [],
   "source": [
    "url=\"https://www.naukri.com/data-scientist-jobs-in-delhi?k=data%20scientist&l=delhi\""
   ]
  },
  {
   "cell_type": "code",
   "execution_count": 34,
   "metadata": {},
   "outputs": [],
   "source": [
    "driver.get(url)"
   ]
  },
  {
   "cell_type": "code",
   "execution_count": 35,
   "metadata": {},
   "outputs": [],
   "source": [
    "job_title=[]\n",
    "company_names=[]\n",
    "locations_list=[]\n",
    "experience_list=[]"
   ]
  },
  {
   "cell_type": "code",
   "execution_count": 36,
   "metadata": {},
   "outputs": [
    {
     "data": {
      "text/plain": [
       "[<selenium.webdriver.remote.webelement.WebElement (session=\"6df3cff48e86259bf65c92597fbb666a\", element=\"26cdf904-d003-4987-99aa-cc34d695a344\")>,\n",
       " <selenium.webdriver.remote.webelement.WebElement (session=\"6df3cff48e86259bf65c92597fbb666a\", element=\"8e254f95-6efa-4d11-beb0-3f9fa59cfdbe\")>,\n",
       " <selenium.webdriver.remote.webelement.WebElement (session=\"6df3cff48e86259bf65c92597fbb666a\", element=\"4339f370-03cb-4985-b41f-d60377ba3fdd\")>,\n",
       " <selenium.webdriver.remote.webelement.WebElement (session=\"6df3cff48e86259bf65c92597fbb666a\", element=\"2790f007-6fed-4bba-83a9-3567c682f277\")>]"
      ]
     },
     "execution_count": 36,
     "metadata": {},
     "output_type": "execute_result"
    }
   ],
   "source": [
    "titles_tag=driver.find_elements_by_xpath(\"//a[@class='title fw500 ellipsis']\")\n",
    "titles_tag[0:4]"
   ]
  },
  {
   "cell_type": "code",
   "execution_count": 37,
   "metadata": {},
   "outputs": [
    {
     "data": {
      "text/plain": [
       "['Senior Data Scientist | CES IT LTD | CMMI Level 5',\n",
       " 'Sr Data Scientist',\n",
       " 'Associate Data Scientist | 0-2 Years | Gurgaon',\n",
       " 'Data Scientist']"
      ]
     },
     "execution_count": 37,
     "metadata": {},
     "output_type": "execute_result"
    }
   ],
   "source": [
    "for i in titles_tag:\n",
    "    job_title.append(i.text)\n",
    "job_title[0:4]    "
   ]
  },
  {
   "cell_type": "code",
   "execution_count": 38,
   "metadata": {},
   "outputs": [
    {
     "data": {
      "text/plain": [
       "[<selenium.webdriver.remote.webelement.WebElement (session=\"6df3cff48e86259bf65c92597fbb666a\", element=\"beba292e-6409-48e1-9626-0c181ba823d8\")>,\n",
       " <selenium.webdriver.remote.webelement.WebElement (session=\"6df3cff48e86259bf65c92597fbb666a\", element=\"7c0551e7-406e-4e82-b689-c5374dfcb0ec\")>,\n",
       " <selenium.webdriver.remote.webelement.WebElement (session=\"6df3cff48e86259bf65c92597fbb666a\", element=\"191eb875-e17c-4d43-9223-431f17bb39f4\")>,\n",
       " <selenium.webdriver.remote.webelement.WebElement (session=\"6df3cff48e86259bf65c92597fbb666a\", element=\"85a61a1b-fbef-4f93-9779-afbb00d68eae\")>]"
      ]
     },
     "execution_count": 38,
     "metadata": {},
     "output_type": "execute_result"
    }
   ],
   "source": [
    "company_tag=driver.find_elements_by_xpath(\"//a[@class='subTitle ellipsis fleft']\")\n",
    "company_tag[0:4]"
   ]
  },
  {
   "cell_type": "code",
   "execution_count": 39,
   "metadata": {},
   "outputs": [
    {
     "data": {
      "text/plain": [
       "['CES Ltd.',\n",
       " 'Concentrix Daksh Services India Private Limited.',\n",
       " 'Xtage Technologies Private Limited',\n",
       " 'IBM India Pvt. Limited']"
      ]
     },
     "execution_count": 39,
     "metadata": {},
     "output_type": "execute_result"
    }
   ],
   "source": [
    "for i in company_tag:\n",
    "    company_names.append(i.text)\n",
    "company_names[0:4]    "
   ]
  },
  {
   "cell_type": "code",
   "execution_count": 40,
   "metadata": {},
   "outputs": [
    {
     "data": {
      "text/plain": [
       "[<selenium.webdriver.remote.webelement.WebElement (session=\"6df3cff48e86259bf65c92597fbb666a\", element=\"96f3a2cf-ca41-4bbe-84cf-3a893e297f21\")>,\n",
       " <selenium.webdriver.remote.webelement.WebElement (session=\"6df3cff48e86259bf65c92597fbb666a\", element=\"487407e4-fac7-4a72-859f-79973b4d5cbd\")>,\n",
       " <selenium.webdriver.remote.webelement.WebElement (session=\"6df3cff48e86259bf65c92597fbb666a\", element=\"164294f9-a0e6-4737-9022-13b1c05b1041\")>,\n",
       " <selenium.webdriver.remote.webelement.WebElement (session=\"6df3cff48e86259bf65c92597fbb666a\", element=\"107407ba-6652-4644-92a1-08e392f5b854\")>]"
      ]
     },
     "execution_count": 40,
     "metadata": {},
     "output_type": "execute_result"
    }
   ],
   "source": [
    "loc_tag=driver.find_elements_by_xpath(\"//li[@class='fleft grey-text br2 placeHolderLi location']/span[1]\")\n",
    "loc_tag[0:4]"
   ]
  },
  {
   "cell_type": "code",
   "execution_count": 41,
   "metadata": {},
   "outputs": [
    {
     "data": {
      "text/plain": [
       "['Chennai, Pune, Delhi NCR, Mumbai, Bengaluru, Hyderabad, Kolkata',\n",
       " 'Pune, Mumbai, Bengaluru, Gurgaon, Kolkata',\n",
       " 'Delhi NCR, Gurgaon',\n",
       " 'Gurgaon Gurugram']"
      ]
     },
     "execution_count": 41,
     "metadata": {},
     "output_type": "execute_result"
    }
   ],
   "source": [
    "for i in loc_tag:\n",
    "    locations_list.append(i.text)\n",
    "locations_list[0:4]"
   ]
  },
  {
   "cell_type": "code",
   "execution_count": 42,
   "metadata": {},
   "outputs": [
    {
     "data": {
      "text/plain": [
       "[<selenium.webdriver.remote.webelement.WebElement (session=\"6df3cff48e86259bf65c92597fbb666a\", element=\"c272d85b-b9f0-4374-8b27-f4c18b43d546\")>,\n",
       " <selenium.webdriver.remote.webelement.WebElement (session=\"6df3cff48e86259bf65c92597fbb666a\", element=\"5b195d41-0de7-4958-8ee7-d67c05f46155\")>,\n",
       " <selenium.webdriver.remote.webelement.WebElement (session=\"6df3cff48e86259bf65c92597fbb666a\", element=\"881e83d4-339d-4c78-8dee-fa5198ae3be6\")>,\n",
       " <selenium.webdriver.remote.webelement.WebElement (session=\"6df3cff48e86259bf65c92597fbb666a\", element=\"82bcb2b2-ac7f-4860-846d-68b304779b2d\")>]"
      ]
     },
     "execution_count": 42,
     "metadata": {},
     "output_type": "execute_result"
    }
   ],
   "source": [
    "exp_tag=driver.find_elements_by_xpath(\"//li[@class='fleft grey-text br2 placeHolderLi experience']/span[1]\")\n",
    "exp_tag[0:4]"
   ]
  },
  {
   "cell_type": "code",
   "execution_count": 43,
   "metadata": {},
   "outputs": [
    {
     "data": {
      "text/plain": [
       "['2-7 Yrs', '4-9 Yrs', '0-2 Yrs', '6-8 Yrs']"
      ]
     },
     "execution_count": 43,
     "metadata": {},
     "output_type": "execute_result"
    }
   ],
   "source": [
    "for i in exp_tag:\n",
    "    experience_list.append(i.text)\n",
    "experience_list[0:4]"
   ]
  },
  {
   "cell_type": "code",
   "execution_count": 44,
   "metadata": {},
   "outputs": [],
   "source": [
    "import pandas as pd \n",
    "DataScientist=pd.DataFrame()\n",
    "DataScientist['JOB_NAME']=job_title[0:4]\n",
    "DataScientist['COMPANY']=company_names[0:4]\n",
    "DataScientist['JOB_LOCATION']=locations_list[0:4]\n",
    "DataScientist['EXPERIENCE']=experience_list[0:4]"
   ]
  },
  {
   "cell_type": "code",
   "execution_count": 45,
   "metadata": {},
   "outputs": [
    {
     "data": {
      "text/html": [
       "<div>\n",
       "<style scoped>\n",
       "    .dataframe tbody tr th:only-of-type {\n",
       "        vertical-align: middle;\n",
       "    }\n",
       "\n",
       "    .dataframe tbody tr th {\n",
       "        vertical-align: top;\n",
       "    }\n",
       "\n",
       "    .dataframe thead th {\n",
       "        text-align: right;\n",
       "    }\n",
       "</style>\n",
       "<table border=\"1\" class=\"dataframe\">\n",
       "  <thead>\n",
       "    <tr style=\"text-align: right;\">\n",
       "      <th></th>\n",
       "      <th>JOB_NAME</th>\n",
       "      <th>COMPANY</th>\n",
       "      <th>JOB_LOCATION</th>\n",
       "      <th>EXPERIENCE</th>\n",
       "    </tr>\n",
       "  </thead>\n",
       "  <tbody>\n",
       "    <tr>\n",
       "      <th>0</th>\n",
       "      <td>Senior Data Scientist | CES IT LTD | CMMI Level 5</td>\n",
       "      <td>CES Ltd.</td>\n",
       "      <td>Chennai, Pune, Delhi NCR, Mumbai, Bengaluru, H...</td>\n",
       "      <td>2-7 Yrs</td>\n",
       "    </tr>\n",
       "    <tr>\n",
       "      <th>1</th>\n",
       "      <td>Sr Data Scientist</td>\n",
       "      <td>Concentrix Daksh Services India Private Limited.</td>\n",
       "      <td>Pune, Mumbai, Bengaluru, Gurgaon, Kolkata</td>\n",
       "      <td>4-9 Yrs</td>\n",
       "    </tr>\n",
       "    <tr>\n",
       "      <th>2</th>\n",
       "      <td>Associate Data Scientist | 0-2 Years | Gurgaon</td>\n",
       "      <td>Xtage Technologies Private Limited</td>\n",
       "      <td>Delhi NCR, Gurgaon</td>\n",
       "      <td>0-2 Yrs</td>\n",
       "    </tr>\n",
       "    <tr>\n",
       "      <th>3</th>\n",
       "      <td>Data Scientist</td>\n",
       "      <td>IBM India Pvt. Limited</td>\n",
       "      <td>Gurgaon Gurugram</td>\n",
       "      <td>6-8 Yrs</td>\n",
       "    </tr>\n",
       "  </tbody>\n",
       "</table>\n",
       "</div>"
      ],
      "text/plain": [
       "                                            JOB_NAME  \\\n",
       "0  Senior Data Scientist | CES IT LTD | CMMI Level 5   \n",
       "1                                  Sr Data Scientist   \n",
       "2     Associate Data Scientist | 0-2 Years | Gurgaon   \n",
       "3                                     Data Scientist   \n",
       "\n",
       "                                            COMPANY  \\\n",
       "0                                          CES Ltd.   \n",
       "1  Concentrix Daksh Services India Private Limited.   \n",
       "2                Xtage Technologies Private Limited   \n",
       "3                            IBM India Pvt. Limited   \n",
       "\n",
       "                                        JOB_LOCATION EXPERIENCE  \n",
       "0  Chennai, Pune, Delhi NCR, Mumbai, Bengaluru, H...    2-7 Yrs  \n",
       "1          Pune, Mumbai, Bengaluru, Gurgaon, Kolkata    4-9 Yrs  \n",
       "2                                 Delhi NCR, Gurgaon    0-2 Yrs  \n",
       "3                                   Gurgaon Gurugram    6-8 Yrs  "
      ]
     },
     "execution_count": 45,
     "metadata": {},
     "output_type": "execute_result"
    }
   ],
   "source": [
    "DataScientist"
   ]
  },
  {
   "cell_type": "code",
   "execution_count": null,
   "metadata": {},
   "outputs": [],
   "source": [
    "#Question7"
   ]
  },
  {
   "cell_type": "code",
   "execution_count": 24,
   "metadata": {},
   "outputs": [],
   "source": [
    "import selenium \n",
    "import pandas as pd\n",
    "from selenium import webdriver"
   ]
  },
  {
   "cell_type": "code",
   "execution_count": 25,
   "metadata": {},
   "outputs": [],
   "source": [
    "driver=webdriver.Chrome(\"desktop/chromedriver.exe\")"
   ]
  },
  {
   "cell_type": "code",
   "execution_count": 28,
   "metadata": {},
   "outputs": [],
   "source": [
    "driver.get(\"https://www.flipkart.com/apple-iphone-11-black-64-gb-includes-earpods-power-adapter/p/itm0f37c2240b217?pid=MOBFKCTSVZAXUHGR&lid=LSTMOBFKCTSVZAXUHGREPBFGI&marketplace\")"
   ]
  },
  {
   "cell_type": "code",
   "execution_count": 29,
   "metadata": {},
   "outputs": [],
   "source": [
    "Rating=[]\n",
    "Review_summary=[]\n",
    "full_review=[]"
   ]
  },
  {
   "cell_type": "code",
   "execution_count": 30,
   "metadata": {},
   "outputs": [],
   "source": [
    "url=\"https://www.flipkart.com/apple-iphone-11-black-64-gb-includes-earpods-power-adapter/p/itm0f37c2240b217?pid=MOBFKCTSVZAXUHGR&lid=LSTMOBFKCTSVZAXUHGREPBFGI&marketplace\""
   ]
  },
  {
   "cell_type": "code",
   "execution_count": 31,
   "metadata": {},
   "outputs": [],
   "source": [
    "driver.get(url)"
   ]
  },
  {
   "cell_type": "code",
   "execution_count": 49,
   "metadata": {},
   "outputs": [],
   "source": [
    "rate_tag=driver.find_elements_by_xpath(\"//div[@class='_3LWZlK _1BLPMq']\")\n",
    "rev_tag=driver.find_elements_by_xpath(\"//P[@class='_2-N8zT']\")\n",
    "full_tag=driver.find_elements_by_xpath(\"//div[@class='t-ZTKy']\")"
   ]
  },
  {
   "cell_type": "code",
   "execution_count": 56,
   "metadata": {},
   "outputs": [
    {
     "data": {
      "text/plain": [
       "['5', '5', '5']"
      ]
     },
     "execution_count": 56,
     "metadata": {},
     "output_type": "execute_result"
    }
   ],
   "source": [
    "for i in rate_tag:\n",
    "    Rating.append(i.text)\n",
    "Rating[0:3]    \n",
    "    "
   ]
  },
  {
   "cell_type": "code",
   "execution_count": 58,
   "metadata": {},
   "outputs": [
    {
     "data": {
      "text/plain": [
       "['Perfect product!', 'Great product', 'Highly recommended']"
      ]
     },
     "execution_count": 58,
     "metadata": {},
     "output_type": "execute_result"
    }
   ],
   "source": [
    "for i in rev_tag:\n",
    "    Review_summary.append(i.text)\n",
    "Review_summary[0:3]    "
   ]
  },
  {
   "cell_type": "code",
   "execution_count": 61,
   "metadata": {},
   "outputs": [
    {
     "data": {
      "text/plain": [
       "['Amazing phone with great cameras and better battery which gives you the best performance. I just love the camera .',\n",
       " 'Amazing Powerful and Durable Gadget.\\n\\nI’m am very happy with the camera picture quality, Amazing face id unlocked in dark room, Strong battery with perfect screen size as you can carry easily in pocket. This is my third iPhone.\\n\\nI shifted from android Samsung Note series to iPhone because of the strong build quality and peace of mind for next 3-4 years.\\n\\nDon’t think to much just go for it and I suggest you to go for minimum 128gb variant or more 256gb.\\n\\nI’ve attached my puppy pics and no fi...\\nREAD MORE',\n",
       " 'iphone 11 is a very good phone to buy only if you can compromise for the display. The display on this is device is pretty good but you can get other options with better displays in this price segment.\\nIf you can survive with an HD+ LCD panel with thicker bezels and a notch up top then this is a very good phone for you.\\nCameras are awesome, battery backup excellent, great performance and a decent premium look. Good job Apple !']"
      ]
     },
     "execution_count": 61,
     "metadata": {},
     "output_type": "execute_result"
    }
   ],
   "source": [
    "for i in full_tag:\n",
    "    full_review.append(i.text)\n",
    "full_review[0:3]    "
   ]
  },
  {
   "cell_type": "code",
   "execution_count": 62,
   "metadata": {},
   "outputs": [],
   "source": [
    "import pandas as pd\n",
    "Review_iphone=pd.DataFrame()\n",
    "Review_iphone['RATING']=Rating[0:3]\n",
    "Review_iphone['REVIEW_SUMMARY']=Review_summary[0:3]\n",
    "Review_iphone['FULL_REVIEW']=full_review[0:3]\n"
   ]
  },
  {
   "cell_type": "code",
   "execution_count": 63,
   "metadata": {},
   "outputs": [
    {
     "data": {
      "text/html": [
       "<div>\n",
       "<style scoped>\n",
       "    .dataframe tbody tr th:only-of-type {\n",
       "        vertical-align: middle;\n",
       "    }\n",
       "\n",
       "    .dataframe tbody tr th {\n",
       "        vertical-align: top;\n",
       "    }\n",
       "\n",
       "    .dataframe thead th {\n",
       "        text-align: right;\n",
       "    }\n",
       "</style>\n",
       "<table border=\"1\" class=\"dataframe\">\n",
       "  <thead>\n",
       "    <tr style=\"text-align: right;\">\n",
       "      <th></th>\n",
       "      <th>RATING</th>\n",
       "      <th>REVIEW_SUMMARY</th>\n",
       "      <th>FULL_REVIEW</th>\n",
       "    </tr>\n",
       "  </thead>\n",
       "  <tbody>\n",
       "    <tr>\n",
       "      <th>0</th>\n",
       "      <td>5</td>\n",
       "      <td>Perfect product!</td>\n",
       "      <td>Amazing phone with great cameras and better ba...</td>\n",
       "    </tr>\n",
       "    <tr>\n",
       "      <th>1</th>\n",
       "      <td>5</td>\n",
       "      <td>Great product</td>\n",
       "      <td>Amazing Powerful and Durable Gadget.\\n\\nI’m am...</td>\n",
       "    </tr>\n",
       "    <tr>\n",
       "      <th>2</th>\n",
       "      <td>5</td>\n",
       "      <td>Highly recommended</td>\n",
       "      <td>iphone 11 is a very good phone to buy only if ...</td>\n",
       "    </tr>\n",
       "  </tbody>\n",
       "</table>\n",
       "</div>"
      ],
      "text/plain": [
       "  RATING      REVIEW_SUMMARY  \\\n",
       "0      5    Perfect product!   \n",
       "1      5       Great product   \n",
       "2      5  Highly recommended   \n",
       "\n",
       "                                         FULL_REVIEW  \n",
       "0  Amazing phone with great cameras and better ba...  \n",
       "1  Amazing Powerful and Durable Gadget.\\n\\nI’m am...  \n",
       "2  iphone 11 is a very good phone to buy only if ...  "
      ]
     },
     "execution_count": 63,
     "metadata": {},
     "output_type": "execute_result"
    }
   ],
   "source": [
    "Review_iphone"
   ]
  },
  {
   "cell_type": "code",
   "execution_count": null,
   "metadata": {},
   "outputs": [],
   "source": []
  }
 ],
 "metadata": {
  "kernelspec": {
   "display_name": "Python 3",
   "language": "python",
   "name": "python3"
  },
  "language_info": {
   "codemirror_mode": {
    "name": "ipython",
    "version": 3
   },
   "file_extension": ".py",
   "mimetype": "text/x-python",
   "name": "python",
   "nbconvert_exporter": "python",
   "pygments_lexer": "ipython3",
   "version": "3.8.3"
  }
 },
 "nbformat": 4,
 "nbformat_minor": 4
}
